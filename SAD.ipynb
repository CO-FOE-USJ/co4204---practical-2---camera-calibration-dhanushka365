{
 "cells": [
  {
   "cell_type": "code",
   "execution_count": 1,
   "metadata": {},
   "outputs": [],
   "source": [
    "import argparse\n",
    "import numpy as np\n",
    "import cv2\n",
    "import time\n",
    "from PIL import Image\n",
    "import concurrent.futures\n",
    "from scipy import ndimage, signal\n"
   ]
  },
  {
   "cell_type": "code",
   "execution_count": 2,
   "metadata": {},
   "outputs": [],
   "source": [
    "\n",
    "def read_image(path):\n",
    "    img = cv2.imread(path,0)\n",
    "\n",
    "    return img.astype(np.int32)\n"
   ]
  },
  {
   "cell_type": "code",
   "execution_count": 4,
   "metadata": {},
   "outputs": [],
   "source": [
    "def shift(block_l, block_r, block_size):\n",
    "    dim1, dim2 = block_r.shape\n",
    "    val = 10000\n",
    "    ind = 0\n",
    "\n",
    "    for i in range(dim2-2*block_size):\n",
    "        current_diff = sad(block_l, block_r[:,i:i+2*block_size+1])\n",
    "\n",
    "        if current_diff<val:\n",
    "            val = current_diff\n",
    "            ind = i+block_size\n",
    "\n",
    "    return ind"
   ]
  },
  {
   "cell_type": "code",
   "execution_count": 5,
   "metadata": {},
   "outputs": [],
   "source": [
    "def sad(block1, block2):\n",
    "    return np.sum(np.abs(block1-block2))\n",
    "\n",
    "def disparity(im1, im2, block_size=5, shift_size=80, name=\"Main Process\"):\n",
    "    print(\"Hi, I am \"+name)\n",
    "\n",
    "    dim1, dim2 = im1.shape\n",
    "\n",
    "    if block_size is None:\n",
    "        block_size = min(dim1//50, dim2//50)\n",
    "\n",
    "    if shift_size is None:\n",
    "        shift_size = block_size*10\n",
    "\n",
    "    map = np.zeros((dim1, dim2))\n",
    "\n",
    "    for i in range(dim1):\n",
    "        for j in range(dim2):\n",
    "            lim1 = j-shift_size if j-shift_size>=0 else 0\n",
    "            lim2 = j+shift_size+1 if j+shift_size+1<dim2 else dim2\n",
    "            lim3 = i if i>=0 else 0\n",
    "            lim4 = i+1 if i+1<dim1 else dim1\n",
    "            lim5 = j-block_size if j-block_size>=0 else 0\n",
    "            lim6 = j+block_size+1 if j+block_size+1<dim2 else dim2\n",
    "\n",
    "            if lim5==0:\n",
    "                lim6=lim5+2*block_size+1\n",
    "\n",
    "            if lim6==dim2:\n",
    "                lim5=lim6-2*block_size-1\n",
    "\n",
    "            map[i,j] = shift_size-shift(im1[lim3:lim4,lim5:lim6], im2[lim3:lim4,lim1:lim2], block_size)\n",
    "\n",
    "    return map\n",
    "\n",
    "def salt_pepper_noise():\n",
    "    pass"
   ]
  },
  {
   "cell_type": "code",
   "execution_count": 6,
   "metadata": {},
   "outputs": [
    {
     "name": "stdout",
     "output_type": "stream",
     "text": [
      "Hi, I am Process0\n",
      "Hi, I am Process1\n",
      "Hi, I am Process2\n",
      "Hi, I am Process3\n",
      "Hi, I am Process4\n",
      "Hi, I am Process5\n",
      "Hi, I am Process6\n",
      "execution time:  565.6692872047424\n"
     ]
    }
   ],
   "source": [
    "if __name__ == \"__main__\":\n",
    "    nb_processes = 7\n",
    "    block_size = 5\n",
    "    shift_size = 30\n",
    "    median_kernel_size = 7\n",
    "    path_color_map = \"./Outputs/depth_color_map/depth_SAD.jpg\"\n",
    "    path_depth_map = \"./Outputs/depth_map/depth_SAD.jpg\"\n",
    "    mode = \"parallel\" # \"sequential\"\n",
    "    image_left = \"SceneImages/SceneImages_left/left_1.bmp\"\n",
    "    image_right = \"SceneImages/SceneImages_right/right_1.bmp\"\n",
    "\n",
    "    im1 = read_image(image_left)\n",
    "    im2 = read_image(image_right)\n",
    "\n",
    "    start = time.time()\n",
    "\n",
    "    if mode==\"parallel\":\n",
    "        param_list = []\n",
    "        fac= im1.shape[0]//nb_processes\n",
    "\n",
    "        for i in range(nb_processes-1):\n",
    "            param_list.append([im1[i*fac:(i+1)*fac,:], im2[i*fac:(i+1)*fac,:], block_size, shift_size, \"Process\"+str(i)])\n",
    "\n",
    "        param_list.append([im1[(nb_processes-1)*fac:,:], im2[(nb_processes-1)*fac:,:], block_size, shift_size, \"Process\"+str(nb_processes-1)])\n",
    "\n",
    "        with concurrent.futures.ProcessPoolExecutor() as executor:\n",
    "            futures=[]\n",
    "\n",
    "            for param in param_list:\n",
    "                p1,p2,p3,p4,p5=param\n",
    "                futures.append(executor.submit(disparity, p1,p2,p3,p4,p5))\n",
    "        \n",
    "        depth=np.vstack(tuple([future.result() for future in futures]))\n",
    "        \n",
    "    else:\n",
    "        depth = disparity(im1, im2, block_size, shift_size)\n",
    "\n",
    "    duration = time.time()-start\n",
    "    print(\"execution time: \", duration)\n",
    "    depth = np.abs(depth)*255//np.max(np.abs(depth))\n",
    "    depth = signal.medfilt(depth, kernel_size=median_kernel_size)\n",
    "    cv2.imwrite(path_depth_map, depth)\n",
    "    heatmap = cv2.applyColorMap(cv2.imread(path_depth_map), cv2.COLORMAP_JET)\n",
    "    cv2.imwrite(path_color_map, heatmap)"
   ]
  }
 ],
 "metadata": {
  "kernelspec": {
   "display_name": "Python 3.10.6 64-bit",
   "language": "python",
   "name": "python3"
  },
  "language_info": {
   "codemirror_mode": {
    "name": "ipython",
    "version": 3
   },
   "file_extension": ".py",
   "mimetype": "text/x-python",
   "name": "python",
   "nbconvert_exporter": "python",
   "pygments_lexer": "ipython3",
   "version": "3.10.6"
  },
  "orig_nbformat": 4,
  "vscode": {
   "interpreter": {
    "hash": "916dbcbb3f70747c44a77c7bcd40155683ae19c65e1c03b4aa3499c5328201f1"
   }
  }
 },
 "nbformat": 4,
 "nbformat_minor": 2
}
